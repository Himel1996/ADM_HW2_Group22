{
 "cells": [
  {
   "cell_type": "markdown",
   "id": "57c5a29d",
   "metadata": {},
   "source": [
    "Question 1"
   ]
  },
  {
   "cell_type": "code",
   "execution_count": 1,
   "id": "d1003d7f",
   "metadata": {},
   "outputs": [],
   "source": [
    "import json\n",
    "import pandas as pd\n",
    "pd.set_option('display.max_columns', None)\n",
    "pd.set_option('display.max_rows', None)\n",
    "import numpy as np"
   ]
  },
  {
   "cell_type": "code",
   "execution_count": 4,
   "id": "f338a78a",
   "metadata": {},
   "outputs": [],
   "source": [
    "chunksize = 10 ** 4  \n",
    "chunks = []\n",
    "\n",
    "#chunking and data cleaning\n",
    "for chunk in pd.read_json(\"/Users/damianzeller/Desktop/HS23/ADM/Homework 2/lighter_books.json\", chunksize=chunksize, lines=True):\n",
    "    chunk['average_rating'].replace('', np.nan, inplace=True)\n",
    "    chunk['num_pages'].replace('', np.nan, inplace=True)\n",
    "    chunk['average_rating'].replace(0.00, np.nan, inplace=True)\n",
    "    chunk['num_pages'].replace(0, np.nan, inplace=True)\n",
    "    chunk['average_rating'] = pd.to_numeric(chunk['average_rating'])\n",
    "    chunk['num_pages'] = pd.to_numeric(chunk['num_pages'])\n",
    "    chunk = chunk.dropna(subset=['average_rating', 'num_pages'])\n",
    "    chunks.append(chunk[['average_rating', 'num_pages']])\n",
    "\n",
    "#creating a dataframe    \n",
    "df = pd.concat(chunks, axis=0)"
   ]
  },
  {
   "cell_type": "code",
   "execution_count": 5,
   "id": "b2a029d7",
   "metadata": {},
   "outputs": [
    {
     "name": "stdout",
     "output_type": "stream",
     "text": [
      "-0.00031640662915722207\n"
     ]
    }
   ],
   "source": [
    "correlation = df['average_rating'].corr(df['num_pages'])\n",
    "print(correlation)"
   ]
  },
  {
   "cell_type": "markdown",
   "id": "28bb895a",
   "metadata": {},
   "source": [
    "The coefficient is slightly smaller than 0, indicating that there is no correlation between the length of a book and the rating.The longest books are not usually rated the worst. As the correlation is even negative, it would rather be the opposite."
   ]
  },
  {
   "cell_type": "markdown",
   "id": "a0524b90",
   "metadata": {},
   "source": [
    "Question 2"
   ]
  },
  {
   "cell_type": "code",
   "execution_count": 6,
   "id": "cc7852f6",
   "metadata": {},
   "outputs": [],
   "source": [
    "import json\n",
    "import pandas as pd\n",
    "from scipy.stats import ttest_ind\n",
    "pd.set_option('display.max_columns', None)\n",
    "pd.set_option('display.max_rows', None)\n",
    "import matplotlib.pyplot as plt\n",
    "import numpy as np"
   ]
  },
  {
   "cell_type": "code",
   "execution_count": 7,
   "id": "f523c9ed",
   "metadata": {},
   "outputs": [],
   "source": [
    "chunks=[]\n",
    "chunksize=10**4\n",
    "nrows = 10**3\n",
    "\n",
    "#chunking and data cleaning\n",
    "for chunk in pd.read_json(\"/Users/damianzeller/Desktop/HS23/ADM/Homework 2/lighter_books.json\", chunksize=chunksize, lines=True):\n",
    "    chunk = chunk[['average_rating', 'language']]\n",
    "    chunk['language'].replace('', np.nan, inplace=True)\n",
    "    chunk['average_rating'].replace('', np.nan, inplace=True)\n",
    "    chunk['average_rating'].replace(0.00, np.nan, inplace=True)\n",
    "    chunk.dropna(subset=['language'], inplace=True)\n",
    "    chunk.dropna(subset=['average_rating'], inplace=True)\n",
    "    chunk['average_rating']= pd.to_numeric(chunk['average_rating'])\n",
    "    chunks.append(chunk)\n",
    "\n",
    "#Creating dataframe\n",
    "chunks = pd.concat(chunks, axis=0)\n",
    "\n",
    "#Creting a new column that is 1 for english books and 0 for nonenglish books\n",
    "chunks['is_english']= chunks['language'].apply(lambda x: int( x[:3] in ['en','eng',\"en-\"]))\n",
    "\n",
    "#Create groups for t-test and doing t-test\n",
    "english_books= chunks[chunks['is_english'] ==1]\n",
    "non_english_books= chunks[chunks['is_english'] ==0]\n",
    "t_stat, p_val = ttest_ind(english_books['average_rating'], non_english_books['average_rating'])"
   ]
  },
  {
   "cell_type": "code",
   "execution_count": 8,
   "id": "b37d3285",
   "metadata": {},
   "outputs": [
    {
     "name": "stdout",
     "output_type": "stream",
     "text": [
      "0.0\n"
     ]
    }
   ],
   "source": [
    "print(p_val)"
   ]
  },
  {
   "cell_type": "markdown",
   "id": "b23d8bdd",
   "metadata": {},
   "source": [
    "The p-value is very low, lower than the often used significance value of 0.05. This means, that the average rate distribution of english and non-english books isn't siginificantly different"
   ]
  },
  {
   "cell_type": "markdown",
   "id": "53fa5113",
   "metadata": {},
   "source": [
    "To further illustrate this we also plotted the average rate distribution for english and nonenglish books in histograms"
   ]
  },
  {
   "cell_type": "code",
   "execution_count": 9,
   "id": "78ddcb33",
   "metadata": {},
   "outputs": [
    {
     "data": {
      "text/plain": [
       "(array([  2587.,    833.,   6952.,   7825.,  18804., 128658., 381247.,\n",
       "        599300., 229201.,  81415.]),\n",
       " array([1. , 1.4, 1.8, 2.2, 2.6, 3. , 3.4, 3.8, 4.2, 4.6, 5. ]),\n",
       " <BarContainer object of 10 artists>)"
      ]
     },
     "execution_count": 9,
     "metadata": {},
     "output_type": "execute_result"
    },
    {
     "data": {
      "image/png": "[encoded data removed]",
      "text/plain": [
       "<Figure size 640x480 with 1 Axes>"
      ]
     },
     "metadata": {},
     "output_type": "display_data"
    }
   ],
   "source": [
    "# Histogram for english books\n",
    "plt.hist(english_books['average_rating'], alpha=0.8, label='English')"
   ]
  },
  {
   "cell_type": "code",
   "execution_count": 10,
   "id": "4eca4800",
   "metadata": {},
   "outputs": [
    {
     "data": {
      "text/plain": [
       "(array([  1897.,    715.,   6859.,   8003.,  18997., 115380., 302100.,\n",
       "        452833., 159666.,  36380.]),\n",
       " array([1. , 1.4, 1.8, 2.2, 2.6, 3. , 3.4, 3.8, 4.2, 4.6, 5. ]),\n",
       " <BarContainer object of 10 artists>)"
      ]
     },
     "execution_count": 10,
     "metadata": {},
     "output_type": "execute_result"
    },
    {
     "data": {
      "image/png": "[encoded data removed]",
      "text/plain": [
       "<Figure size 640x480 with 1 Axes>"
      ]
     },
     "metadata": {},
     "output_type": "display_data"
    }
   ],
   "source": [
    "# Histogram for non-english books\n",
    "plt.hist(non_english_books['average_rating'], alpha=0.5, label='Non_English')"
   ]
  },
  {
   "cell_type": "markdown",
   "id": "ff89a265",
   "metadata": {},
   "source": [
    "The two Histograms illustrate that there is no significant difference in the average rate distribution of english and non-english books"
   ]
  },
  {
   "cell_type": "markdown",
   "id": "93844856",
   "metadata": {},
   "source": [
    "Question 3"
   ]
  },
  {
   "cell_type": "code",
   "execution_count": 12,
   "id": "a27d0449",
   "metadata": {},
   "outputs": [
    {
     "data": {
      "image/png": "[encoded data removed]",
      "text/plain": [
       "<Figure size 640x480 with 1 Axes>"
      ]
     },
     "metadata": {},
     "output_type": "display_data"
    }
   ],
   "source": [
    "#Defining variables for the boxplot\n",
    "ratings_english = english_books['average_rating'].tolist()\n",
    "ratings_non_english = non_english_books['average_rating'].tolist()\n",
    "\n",
    "#Creating the boxplot\n",
    "plt.boxplot([ratings_english, ratings_non_english], labels=['english', 'non-english'])\n",
    "plt.title('Comparison of average rates')\n",
    "plt.ylabel('Rate')\n",
    "plt.show()"
   ]
  },
  {
   "cell_type": "code",
   "execution_count": 19,
   "id": "315ea618",
   "metadata": {},
   "outputs": [
    {
     "name": "stdout",
     "output_type": "stream",
     "text": [
      "Mean english books: 3.895\n",
      "Mean non-english books: 3.839\n"
     ]
    }
   ],
   "source": [
    "#Calculating the means\n",
    "mean_english = english_books['average_rating'].mean()\n",
    "mean_non_english = non_english_books['average_rating'].mean()\n",
    "print('Mean english books: %.3f' % mean_english)\n",
    "print('Mean non-english books: %.3f' % mean_non_english)"
   ]
  },
  {
   "cell_type": "markdown",
   "id": "1e1ab70e",
   "metadata": {},
   "source": [
    "The two means are really close to each other. The mean isn't shown in a boxplot. If the data is perfectly symmetric, the mean is identical with the median"
   ]
  },
  {
   "cell_type": "code",
   "execution_count": 20,
   "id": "58cc0586",
   "metadata": {},
   "outputs": [
    {
     "name": "stdout",
     "output_type": "stream",
     "text": [
      "Median english books: 3.920\n",
      "Median non-english books: 3.890\n"
     ]
    }
   ],
   "source": [
    "#Calculating the median\n",
    "median_english = english_books['average_rating'].median()\n",
    "median_non_english = non_english_books['average_rating'].median()\n",
    "print('Median english books: %.3f' % median_english)\n",
    "print('Median non-english books: %.3f' % median_non_english)"
   ]
  },
  {
   "cell_type": "markdown",
   "id": "85c42f6d",
   "metadata": {},
   "source": [
    "The medians of english and non-english books are really close to each other. The median is the yellow line in the boxplot. Half of the average rates are above the line and half below it. In a boxplot the median is important to show the skewness of the data. As the median for both english and non-english books is more or less in the middle of the box, we can conclude that are data is symmetric."
   ]
  },
  {
   "cell_type": "code",
   "execution_count": 21,
   "id": "0b59388d",
   "metadata": {},
   "outputs": [
    {
     "name": "stdout",
     "output_type": "stream",
     "text": [
      "Mode english books: 4.000\n",
      "Mode non-english books: 4.000\n"
     ]
    }
   ],
   "source": [
    "#Calculating the mode\n",
    "mode_english = english_books['average_rating'].mode()\n",
    "mode_non_english = non_english_books['average_rating'].mode()\n",
    "print('Mode english books: %.3f' % mode_english)\n",
    "print('Mode non-english books: %.3f' % mode_non_english)"
   ]
  },
  {
   "cell_type": "markdown",
   "id": "0cb6c66d",
   "metadata": {},
   "source": [
    "The mode isn't shown in a boxplot, but if the boxplot is perfectly symmetric it is identical with the mean and average."
   ]
  },
  {
   "cell_type": "code",
   "execution_count": 22,
   "id": "b41c6843",
   "metadata": {},
   "outputs": [
    {
     "name": "stdout",
     "output_type": "stream",
     "text": [
      "Q1 english books: 3.670\n",
      "Q2 english books: 3.920\n",
      "Q3 english books: 4.150\n",
      "Q1 non-english books: 3.620\n",
      "Q2 non-english books: 3.890\n",
      "Q3 non-english books: 4.110\n"
     ]
    }
   ],
   "source": [
    "#Calculating the quartiles\n",
    "q1_english = english_books['average_rating'].quantile(0.25)\n",
    "q2_english = english_books['average_rating'].quantile(0.5)\n",
    "q3_english = english_books['average_rating'].quantile(0.75)\n",
    "\n",
    "q1_non_english = non_english_books['average_rating'].quantile(0.25)\n",
    "q2_non_english = non_english_books['average_rating'].quantile(0.5)\n",
    "q3_non_english = non_english_books['average_rating'].quantile(0.75)\n",
    "\n",
    "print('Q1 english books: %.3f' % q1_english)\n",
    "print('Q2 english books: %.3f' % q2_english)\n",
    "print('Q3 english books: %.3f' % q3_english)\n",
    "print('Q1 non-english books: %.3f' % q1_non_english)\n",
    "print('Q2 non-english books: %.3f' % q2_non_english)\n",
    "print('Q3 non-english books: %.3f' % q3_non_english)"
   ]
  },
  {
   "cell_type": "markdown",
   "id": "b30ccc61",
   "metadata": {},
   "source": [
    "For both english and non-english books, the interquartile range(Q3-Q1) is quite small. This means that our data isn't really dispersed. The interqaurtile range is visualized by the length of the boxplot."
   ]
  },
  {
   "cell_type": "markdown",
   "id": "6d479c12",
   "metadata": {},
   "source": [
    "Question 4"
   ]
  },
  {
   "cell_type": "code",
   "execution_count": 23,
   "id": "97d43abb",
   "metadata": {},
   "outputs": [],
   "source": [
    "import json\n",
    "import pandas as pd\n",
    "import statsmodels.api as sm\n",
    "import numpy as np\n",
    "import matplotlib.pyplot as plt\n",
    "from scipy.stats import pearsonr\n"
   ]
  },
  {
   "cell_type": "code",
   "execution_count": 24,
   "id": "b1f3a4d1",
   "metadata": {},
   "outputs": [
    {
     "name": "stdout",
     "output_type": "stream",
     "text": [
      "Pearsons correlation: 0.694\n"
     ]
    }
   ],
   "source": [
    "chunksize=10**4\n",
    "chunks=[]\n",
    "\n",
    "#chunking and data cleaning\n",
    "for chunk in pd.read_json(\"/Users/damianzeller/Desktop/HS23/ADM/Homework 2/lighter_authors.json\", chunksize=chunksize, lines=True):\n",
    "    chunk = chunk[['fans_count', 'text_reviews_count']]\n",
    "    chunk['text_reviews_count'].replace('', np.nan, inplace=True)\n",
    "    chunk['fans_count'].replace('', np.nan, inplace=True)\n",
    "    chunk.dropna(subset=['text_reviews_count'], inplace=True)\n",
    "    chunk.dropna(subset=['fans_count'], inplace=True)\n",
    "    chunk['text_reviews_count']= pd.to_numeric(chunk['text_reviews_count'])\n",
    "    chunk['fans_count']= pd.to_numeric(chunk['fans_count'])\n",
    "    chunks.append(chunk)\n",
    "\n",
    "#Creating a new dataframe\n",
    "chunks = pd.concat(chunks, axis=0)\n",
    "\n",
    "#Creating variables for the Pearsons Correlation\n",
    "fans = chunks['fans_count']\n",
    "reviews = chunks['text_reviews_count']\n",
    "\n",
    "#Calculating the Pearsons Correlation\n",
    "correlation, _ = pearsonr(fans, reviews)\n",
    "print('Pearsons correlation: %.3f' % correlation)"
   ]
  },
  {
   "cell_type": "markdown",
   "id": "a19fab95",
   "metadata": {},
   "source": [
    "The coefficient of 0.694 indicates a positive correlation. The more fans you have, the more reviews you will get."
   ]
  },
  {
   "cell_type": "markdown",
   "id": "3f07427b",
   "metadata": {},
   "source": [
    "Question 5"
   ]
  },
  {
   "cell_type": "markdown",
   "id": "2106d973",
   "metadata": {},
   "source": [
    "Hypothesis testing is usually done by formulating a null hypothesis, which states that their either is a certain relationship between variables or not. In a second step the prediction of the hypothesis is tested by observing data, which leads to a rejection or acceptance of the null hypothesis. The tests used for hypothesis testing can be divded in two groups: Parametric and nonparametric tests. The main difference between these kind of tests is that parametric tests make certain assumptions about the data (e.g. normally distributed, same variance, sampled randomly), while nonparametric tests don't do that and are more factual. Further for parametric tests the sample size needs to be bigger. We chose parametric tests as they can be computed and interpreted easier than nonparametric tests and we didn't see any of the assumptions about the data as violated."
   ]
  }
 ],
 "metadata": {
  "kernelspec": {
   "display_name": "Python 3 (ipykernel)",
   "language": "python",
   "name": "python3"
  },
  "language_info": {
   "codemirror_mode": {
    "name": "ipython",
    "version": 3
   },
   "file_extension": ".py",
   "mimetype": "text/x-python",
   "name": "python",
   "nbconvert_exporter": "python",
   "pygments_lexer": "ipython3",
   "version": "3.11.4"
  }
 },
 "nbformat": 4,
 "nbformat_minor": 5
}
